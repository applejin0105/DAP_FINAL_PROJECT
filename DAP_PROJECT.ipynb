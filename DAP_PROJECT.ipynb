{
  "cells": [
    {
      "cell_type": "markdown",
      "metadata": {
        "id": "view-in-github",
        "colab_type": "text"
      },
      "source": [
        "<a href=\"https://colab.research.google.com/github/applejin0105/DAP_FINAL_PROJECT/blob/main/DAP_PROJECT.ipynb\" target=\"_parent\"><img src=\"https://colab.research.google.com/assets/colab-badge.svg\" alt=\"Open In Colab\"/></a>"
      ]
    },
    {
      "cell_type": "code",
      "execution_count": null,
      "id": "b36a3628-9f11-4f4f-b31b-d5bd19b7c25a",
      "metadata": {
        "id": "b36a3628-9f11-4f4f-b31b-d5bd19b7c25a"
      },
      "outputs": [],
      "source": [
        "import pandas as pd\n",
        "import numpy as np\n",
        "import seaborn as sns\n",
        "import matplotlib.pyplot as plt\n",
        "from sklearn.linear_model import LinearRegression"
      ]
    },
    {
      "cell_type": "markdown",
      "id": "194996d2-c386-42b1-8031-bab890f963d7",
      "metadata": {
        "id": "194996d2-c386-42b1-8031-bab890f963d7"
      },
      "source": [
        "# DAP_FINAL_PROJECT"
      ]
    },
    {
      "cell_type": "markdown",
      "id": "18e39b6a-6469-4c36-a47f-e2c755718f87",
      "metadata": {
        "id": "18e39b6a-6469-4c36-a47f-e2c755718f87"
      },
      "source": [
        "##### 총 250판을 플레이, 플레이한 결과를 다음과 같이 기입하였다."
      ]
    },
    {
      "cell_type": "code",
      "execution_count": null,
      "id": "73ccdc5d-aa6b-4b5d-bdd1-49dc06b34712",
      "metadata": {
        "id": "73ccdc5d-aa6b-4b5d-bdd1-49dc06b34712",
        "outputId": "6977f0b2-f861-4a6a-cc22-764795784554"
      },
      "outputs": [
        {
          "data": {
            "text/html": [
              "<div>\n",
              "<style scoped>\n",
              "    .dataframe tbody tr th:only-of-type {\n",
              "        vertical-align: middle;\n",
              "    }\n",
              "\n",
              "    .dataframe tbody tr th {\n",
              "        vertical-align: top;\n",
              "    }\n",
              "\n",
              "    .dataframe thead th {\n",
              "        text-align: right;\n",
              "    }\n",
              "</style>\n",
              "<table border=\"1\" class=\"dataframe\">\n",
              "  <thead>\n",
              "    <tr style=\"text-align: right;\">\n",
              "      <th></th>\n",
              "      <th>Type</th>\n",
              "      <th>Generation</th>\n",
              "      <th>Group</th>\n",
              "      <th>Result</th>\n",
              "      <th>Count</th>\n",
              "      <th>Death</th>\n",
              "      <th>Kill</th>\n",
              "    </tr>\n",
              "  </thead>\n",
              "  <tbody>\n",
              "    <tr>\n",
              "      <th>0</th>\n",
              "      <td>A</td>\n",
              "      <td>1</td>\n",
              "      <td>A</td>\n",
              "      <td>Win</td>\n",
              "      <td>1</td>\n",
              "      <td>2</td>\n",
              "      <td>4</td>\n",
              "    </tr>\n",
              "    <tr>\n",
              "      <th>1</th>\n",
              "      <td>A</td>\n",
              "      <td>1</td>\n",
              "      <td>A</td>\n",
              "      <td>Win</td>\n",
              "      <td>2</td>\n",
              "      <td>1</td>\n",
              "      <td>4</td>\n",
              "    </tr>\n",
              "    <tr>\n",
              "      <th>2</th>\n",
              "      <td>A</td>\n",
              "      <td>1</td>\n",
              "      <td>A</td>\n",
              "      <td>Win</td>\n",
              "      <td>3</td>\n",
              "      <td>2</td>\n",
              "      <td>4</td>\n",
              "    </tr>\n",
              "    <tr>\n",
              "      <th>3</th>\n",
              "      <td>A</td>\n",
              "      <td>1</td>\n",
              "      <td>A</td>\n",
              "      <td>Lose</td>\n",
              "      <td>4</td>\n",
              "      <td>4</td>\n",
              "      <td>1</td>\n",
              "    </tr>\n",
              "    <tr>\n",
              "      <th>4</th>\n",
              "      <td>A</td>\n",
              "      <td>1</td>\n",
              "      <td>A</td>\n",
              "      <td>Win</td>\n",
              "      <td>5</td>\n",
              "      <td>2</td>\n",
              "      <td>4</td>\n",
              "    </tr>\n",
              "    <tr>\n",
              "      <th>...</th>\n",
              "      <td>...</td>\n",
              "      <td>...</td>\n",
              "      <td>...</td>\n",
              "      <td>...</td>\n",
              "      <td>...</td>\n",
              "      <td>...</td>\n",
              "      <td>...</td>\n",
              "    </tr>\n",
              "    <tr>\n",
              "      <th>235</th>\n",
              "      <td>C</td>\n",
              "      <td>2</td>\n",
              "      <td>C</td>\n",
              "      <td>Win</td>\n",
              "      <td>6</td>\n",
              "      <td>2</td>\n",
              "      <td>4</td>\n",
              "    </tr>\n",
              "    <tr>\n",
              "      <th>236</th>\n",
              "      <td>C</td>\n",
              "      <td>2</td>\n",
              "      <td>C</td>\n",
              "      <td>Win</td>\n",
              "      <td>7</td>\n",
              "      <td>1</td>\n",
              "      <td>4</td>\n",
              "    </tr>\n",
              "    <tr>\n",
              "      <th>237</th>\n",
              "      <td>C</td>\n",
              "      <td>2</td>\n",
              "      <td>C</td>\n",
              "      <td>Lose</td>\n",
              "      <td>8</td>\n",
              "      <td>4</td>\n",
              "      <td>2</td>\n",
              "    </tr>\n",
              "    <tr>\n",
              "      <th>238</th>\n",
              "      <td>C</td>\n",
              "      <td>2</td>\n",
              "      <td>C</td>\n",
              "      <td>Win</td>\n",
              "      <td>9</td>\n",
              "      <td>1</td>\n",
              "      <td>4</td>\n",
              "    </tr>\n",
              "    <tr>\n",
              "      <th>239</th>\n",
              "      <td>C</td>\n",
              "      <td>2</td>\n",
              "      <td>C</td>\n",
              "      <td>Lose</td>\n",
              "      <td>10</td>\n",
              "      <td>4</td>\n",
              "      <td>0</td>\n",
              "    </tr>\n",
              "  </tbody>\n",
              "</table>\n",
              "<p>240 rows × 7 columns</p>\n",
              "</div>"
            ],
            "text/plain": [
              "    Type  Generation Group Result  Count  Death  Kill\n",
              "0      A           1     A    Win      1      2     4\n",
              "1      A           1     A    Win      2      1     4\n",
              "2      A           1     A    Win      3      2     4\n",
              "3      A           1     A   Lose      4      4     1\n",
              "4      A           1     A    Win      5      2     4\n",
              "..   ...         ...   ...    ...    ...    ...   ...\n",
              "235    C           2     C    Win      6      2     4\n",
              "236    C           2     C    Win      7      1     4\n",
              "237    C           2     C   Lose      8      4     2\n",
              "238    C           2     C    Win      9      1     4\n",
              "239    C           2     C   Lose     10      4     0\n",
              "\n",
              "[240 rows x 7 columns]"
            ]
          },
          "execution_count": 53,
          "metadata": {},
          "output_type": "execute_result"
        }
      ],
      "source": [
        "original_df = pd.read_csv('DAP_PROJECT.csv')\n",
        "original_df"
      ]
    },
    {
      "cell_type": "markdown",
      "id": "83672eb3-ee62-41bf-bd38-3f721805b0c1",
      "metadata": {
        "id": "83672eb3-ee62-41bf-bd38-3f721805b0c1"
      },
      "source": [
        "# Data preprocessing"
      ]
    },
    {
      "cell_type": "markdown",
      "id": "d958cb45-772d-4b6d-bf3a-4ff8fca0b0a2",
      "metadata": {
        "id": "d958cb45-772d-4b6d-bf3a-4ff8fca0b0a2"
      },
      "source": [
        "##### 추출한 데이터 중, 승률 계산을 위해, 승리 / 패배를 label로 Encode 하였다."
      ]
    },
    {
      "cell_type": "code",
      "execution_count": null,
      "id": "fba08859-f8db-415c-8f21-348aaeeff396",
      "metadata": {
        "id": "fba08859-f8db-415c-8f21-348aaeeff396",
        "jupyter": {
          "source_hidden": true
        },
        "outputId": "33412fe8-7143-4377-9944-d3071320477c",
        "tags": []
      },
      "outputs": [
        {
          "data": {
            "text/html": [
              "<div>\n",
              "<style scoped>\n",
              "    .dataframe tbody tr th:only-of-type {\n",
              "        vertical-align: middle;\n",
              "    }\n",
              "\n",
              "    .dataframe tbody tr th {\n",
              "        vertical-align: top;\n",
              "    }\n",
              "\n",
              "    .dataframe thead th {\n",
              "        text-align: right;\n",
              "    }\n",
              "</style>\n",
              "<table border=\"1\" class=\"dataframe\">\n",
              "  <thead>\n",
              "    <tr style=\"text-align: right;\">\n",
              "      <th></th>\n",
              "      <th>Type</th>\n",
              "      <th>Generation</th>\n",
              "      <th>Group</th>\n",
              "      <th>Count</th>\n",
              "      <th>Death</th>\n",
              "      <th>Kill</th>\n",
              "      <th>rate_Lose</th>\n",
              "      <th>rate_Win</th>\n",
              "    </tr>\n",
              "  </thead>\n",
              "  <tbody>\n",
              "    <tr>\n",
              "      <th>0</th>\n",
              "      <td>A</td>\n",
              "      <td>1</td>\n",
              "      <td>A</td>\n",
              "      <td>1</td>\n",
              "      <td>2</td>\n",
              "      <td>4</td>\n",
              "      <td>0</td>\n",
              "      <td>1</td>\n",
              "    </tr>\n",
              "    <tr>\n",
              "      <th>1</th>\n",
              "      <td>A</td>\n",
              "      <td>1</td>\n",
              "      <td>A</td>\n",
              "      <td>2</td>\n",
              "      <td>1</td>\n",
              "      <td>4</td>\n",
              "      <td>0</td>\n",
              "      <td>1</td>\n",
              "    </tr>\n",
              "    <tr>\n",
              "      <th>2</th>\n",
              "      <td>A</td>\n",
              "      <td>1</td>\n",
              "      <td>A</td>\n",
              "      <td>3</td>\n",
              "      <td>2</td>\n",
              "      <td>4</td>\n",
              "      <td>0</td>\n",
              "      <td>1</td>\n",
              "    </tr>\n",
              "    <tr>\n",
              "      <th>3</th>\n",
              "      <td>A</td>\n",
              "      <td>1</td>\n",
              "      <td>A</td>\n",
              "      <td>4</td>\n",
              "      <td>4</td>\n",
              "      <td>1</td>\n",
              "      <td>1</td>\n",
              "      <td>0</td>\n",
              "    </tr>\n",
              "    <tr>\n",
              "      <th>4</th>\n",
              "      <td>A</td>\n",
              "      <td>1</td>\n",
              "      <td>A</td>\n",
              "      <td>5</td>\n",
              "      <td>2</td>\n",
              "      <td>4</td>\n",
              "      <td>0</td>\n",
              "      <td>1</td>\n",
              "    </tr>\n",
              "    <tr>\n",
              "      <th>...</th>\n",
              "      <td>...</td>\n",
              "      <td>...</td>\n",
              "      <td>...</td>\n",
              "      <td>...</td>\n",
              "      <td>...</td>\n",
              "      <td>...</td>\n",
              "      <td>...</td>\n",
              "      <td>...</td>\n",
              "    </tr>\n",
              "    <tr>\n",
              "      <th>235</th>\n",
              "      <td>C</td>\n",
              "      <td>2</td>\n",
              "      <td>C</td>\n",
              "      <td>6</td>\n",
              "      <td>2</td>\n",
              "      <td>4</td>\n",
              "      <td>0</td>\n",
              "      <td>1</td>\n",
              "    </tr>\n",
              "    <tr>\n",
              "      <th>236</th>\n",
              "      <td>C</td>\n",
              "      <td>2</td>\n",
              "      <td>C</td>\n",
              "      <td>7</td>\n",
              "      <td>1</td>\n",
              "      <td>4</td>\n",
              "      <td>0</td>\n",
              "      <td>1</td>\n",
              "    </tr>\n",
              "    <tr>\n",
              "      <th>237</th>\n",
              "      <td>C</td>\n",
              "      <td>2</td>\n",
              "      <td>C</td>\n",
              "      <td>8</td>\n",
              "      <td>4</td>\n",
              "      <td>2</td>\n",
              "      <td>1</td>\n",
              "      <td>0</td>\n",
              "    </tr>\n",
              "    <tr>\n",
              "      <th>238</th>\n",
              "      <td>C</td>\n",
              "      <td>2</td>\n",
              "      <td>C</td>\n",
              "      <td>9</td>\n",
              "      <td>1</td>\n",
              "      <td>4</td>\n",
              "      <td>0</td>\n",
              "      <td>1</td>\n",
              "    </tr>\n",
              "    <tr>\n",
              "      <th>239</th>\n",
              "      <td>C</td>\n",
              "      <td>2</td>\n",
              "      <td>C</td>\n",
              "      <td>10</td>\n",
              "      <td>4</td>\n",
              "      <td>0</td>\n",
              "      <td>1</td>\n",
              "      <td>0</td>\n",
              "    </tr>\n",
              "  </tbody>\n",
              "</table>\n",
              "<p>240 rows × 8 columns</p>\n",
              "</div>"
            ],
            "text/plain": [
              "    Type  Generation Group  Count  Death  Kill  rate_Lose  rate_Win\n",
              "0      A           1     A      1      2     4          0         1\n",
              "1      A           1     A      2      1     4          0         1\n",
              "2      A           1     A      3      2     4          0         1\n",
              "3      A           1     A      4      4     1          1         0\n",
              "4      A           1     A      5      2     4          0         1\n",
              "..   ...         ...   ...    ...    ...   ...        ...       ...\n",
              "235    C           2     C      6      2     4          0         1\n",
              "236    C           2     C      7      1     4          0         1\n",
              "237    C           2     C      8      4     2          1         0\n",
              "238    C           2     C      9      1     4          0         1\n",
              "239    C           2     C     10      4     0          1         0\n",
              "\n",
              "[240 rows x 8 columns]"
            ]
          },
          "execution_count": 54,
          "metadata": {},
          "output_type": "execute_result"
        }
      ],
      "source": [
        "df = pd.get_dummies(original_df, prefix=['rate'], columns=['Result'])\n",
        "df"
      ]
    },
    {
      "cell_type": "markdown",
      "id": "7315e3d7-7e45-4e34-b057-9d0ecac83cf3",
      "metadata": {
        "id": "7315e3d7-7e45-4e34-b057-9d0ecac83cf3",
        "tags": []
      },
      "source": [
        "## Divide Group"
      ]
    },
    {
      "cell_type": "markdown",
      "id": "cbcf9751-fd30-4e4d-a69a-7031693a6757",
      "metadata": {
        "id": "cbcf9751-fd30-4e4d-a69a-7031693a6757"
      },
      "source": [
        "###### 주어진 데이터를 그룹화하여, 각 분기별 / 세대별로 데이터를 구분하였다."
      ]
    },
    {
      "cell_type": "code",
      "execution_count": null,
      "id": "f9d62da8-dac0-4b40-866a-b5e31defe925",
      "metadata": {
        "id": "f9d62da8-dac0-4b40-866a-b5e31defe925",
        "jupyter": {
          "source_hidden": true
        },
        "tags": []
      },
      "outputs": [],
      "source": [
        "Type_A = df['Type'] == 'A'\n",
        "Type_B = df['Type'] == 'B'\n",
        "Type_C = df['Type'] == 'C'\n",
        "\n",
        "Group_A = df['Group'] == 'A'\n",
        "Group_B = df['Group'] == 'B'\n",
        "Group_C = df['Group'] == 'C'\n",
        "Group_D = df['Group'] == 'D'\n",
        "Group_E = df['Group'] == 'E'\n",
        "\n",
        "Generation1 = df['Generation'] == 1\n",
        "Generation2 = df['Generation'] == 2\n",
        "\n",
        "AA1 = df[Type_A & Group_A & Generation1]\n",
        "AB1 = df[Type_A & Group_B & Generation1]\n",
        "AC1 = df[Type_A & Group_C & Generation1]\n",
        "AD1 = df[Type_A & Group_D & Generation1]\n",
        "AE1 = df[Type_A & Group_E & Generation1]\n",
        "\n",
        "AA2 = df[Type_A & Group_A & Generation2]\n",
        "AB2 = df[Type_A & Group_B & Generation2]\n",
        "\n",
        "BA1 = df[Type_B & Group_A & Generation1]\n",
        "BB1 = df[Type_B & Group_B & Generation1]\n",
        "BC1 = df[Type_B & Group_C & Generation1]\n",
        "BD1 = df[Type_B & Group_D & Generation1]\n",
        "BE1 = df[Type_B & Group_E & Generation1]\n",
        "\n",
        "BA2 = df[Type_B & Group_A & Generation2]\n",
        "BB2 = df[Type_B & Group_B & Generation2]\n",
        "BC2 = df[Type_B & Group_C & Generation2]\n",
        "BD2 = df[Type_B & Group_D & Generation2]\n",
        "\n",
        "CA1 = df[Type_C & Group_A & Generation1]\n",
        "CB1 = df[Type_C & Group_B & Generation1]\n",
        "CC1 = df[Type_C & Group_C & Generation1]\n",
        "CD1 = df[Type_C & Group_D & Generation1]\n",
        "CE1 = df[Type_C & Group_E & Generation1]\n",
        "\n",
        "CA2 = df[Type_C & Group_A & Generation2]\n",
        "CB2 = df[Type_C & Group_B & Generation2]\n",
        "CC2 = df[Type_C & Group_C & Generation2]"
      ]
    },
    {
      "cell_type": "markdown",
      "id": "7870b1af-7d2b-43ce-9599-5d10fb8c8086",
      "metadata": {
        "id": "7870b1af-7d2b-43ce-9599-5d10fb8c8086"
      },
      "source": [
        "# Data Visualizartion"
      ]
    },
    {
      "cell_type": "markdown",
      "id": "ddb62763-4744-4c65-ad05-f4c684b8cb89",
      "metadata": {
        "id": "ddb62763-4744-4c65-ad05-f4c684b8cb89"
      },
      "source": [
        "## Win Rate / FIRST GENERATION"
      ]
    },
    {
      "cell_type": "markdown",
      "id": "dc1fa572-d1fe-4ce3-82ab-06404ac56de7",
      "metadata": {
        "id": "dc1fa572-d1fe-4ce3-82ab-06404ac56de7"
      },
      "source": [
        "##### 첫번째 세대의 승률"
      ]
    },
    {
      "cell_type": "code",
      "execution_count": null,
      "id": "100be26f-788f-4653-9866-1bc49125653d",
      "metadata": {
        "id": "100be26f-788f-4653-9866-1bc49125653d",
        "jupyter": {
          "source_hidden": true
        },
        "outputId": "6686f2c9-8605-456c-ff38-e4206c831efb",
        "tags": []
      },
      "outputs": [
        {
          "data": {
            "image/png": "[encoded data removed]",
            "text/plain": [
              "<Figure size 432x288 with 1 Axes>"
            ]
          },
          "metadata": {
            "needs_background": "light"
          },
          "output_type": "display_data"
        }
      ],
      "source": [
        "plt.bar(['AA1', 'AB1', 'AC1', 'AD1', 'AE1', 'BA1', 'BB1', 'BC1', 'BD1', 'BE1', 'CA1', 'CB1', 'CC1', 'CD1', 'CE1'], [AA1['rate_Win'].mean(), AB1['rate_Win'].mean(), AC1['rate_Win'].mean(), AD1['rate_Win'].mean(), AE1['rate_Win'].mean(), BA1['rate_Win'].mean(), BB1['rate_Win'].mean(), BC1['rate_Win'].mean(), BD1['rate_Win'].mean(), BE1['rate_Win'].mean(), CA1['rate_Win'].mean(), CB1['rate_Win'].mean(), CC1['rate_Win'].mean(), CD1['rate_Win'].mean(), CE1['rate_Win'].mean()], color = 'gold')\n",
        "plt.xlabel('Group')\n",
        "plt.ylabel('Win Rate')\n",
        "plt.title('GEN1 / Win Rate')\n",
        "plt.show()"
      ]
    },
    {
      "cell_type": "markdown",
      "id": "1b947980-de77-4a41-927a-b4b2c843bb15",
      "metadata": {
        "id": "1b947980-de77-4a41-927a-b4b2c843bb15"
      },
      "source": [
        "## AVG DEATH & KILL / FIRST GENERATION"
      ]
    },
    {
      "cell_type": "markdown",
      "id": "7aaa2580-03e8-4a0a-9ba6-b25c3723fd5a",
      "metadata": {
        "id": "7aaa2580-03e8-4a0a-9ba6-b25c3723fd5a"
      },
      "source": [
        "##### 첫번째 세대의 평균 처치 / 사망 수"
      ]
    },
    {
      "cell_type": "code",
      "execution_count": null,
      "id": "f228f57e-2097-4e14-a750-9f96224290fe",
      "metadata": {
        "jupyter": {
          "source_hidden": true
        },
        "tags": [],
        "id": "f228f57e-2097-4e14-a750-9f96224290fe",
        "outputId": "f1d05117-1ae5-4193-b7d9-bb1aa5ac5213"
      },
      "outputs": [
        {
          "data": {
            "image/png": "[encoded data removed]",
            "text/plain": [
              "<Figure size 432x288 with 2 Axes>"
            ]
          },
          "metadata": {
            "needs_background": "light"
          },
          "output_type": "display_data"
        }
      ],
      "source": [
        "plt.subplot(221)\n",
        "plt.bar(['AA1', 'AB1', 'AC1', 'AD1', 'AE1'], [AA1['Death'].mean(), AB1['Death'].mean(), AC1['Death'].mean(), AD1['Death'].mean(), AE1['Death'].mean()], color = 'black')\n",
        "plt.xlabel('Group')\n",
        "plt.ylabel('Count')\n",
        "plt.title('Death / GEN1 / GROUP A')\n",
        "\n",
        "plt.subplot(222)\n",
        "plt.bar(['AA1', 'AB1', 'AC1', 'AD1', 'AE1'], [AA1['Kill'].mean(), AB1['Kill'].mean(), AC1['Kill'].mean(), AD1['Kill'].mean(), AE1['Kill'].mean()], color = 'red')\n",
        "plt.xlabel('Group')\n",
        "plt.ylabel('Count')\n",
        "plt.title('Kill / GEN1 / GROUP A')\n",
        "\n",
        "plt.show()"
      ]
    },
    {
      "cell_type": "code",
      "execution_count": null,
      "id": "0698a090-49a6-4f8c-a9f1-5b9e663a42e5",
      "metadata": {
        "jupyter": {
          "source_hidden": true
        },
        "tags": [],
        "id": "0698a090-49a6-4f8c-a9f1-5b9e663a42e5",
        "outputId": "9f8a3233-b6df-4457-e803-61c4cdbfc0fa"
      },
      "outputs": [
        {
          "data": {
            "image/png": "[encoded data removed]",
            "text/plain": [
              "<Figure size 432x288 with 2 Axes>"
            ]
          },
          "metadata": {
            "needs_background": "light"
          },
          "output_type": "display_data"
        }
      ],
      "source": [
        "plt.subplot(221)\n",
        "plt.bar(['BA1', 'BB1', 'BC1', 'BD1', 'BE1'], [BA1['Death'].mean(), BB1['Death'].mean(), BC1['Death'].mean(), BD1['Death'].mean(), BE1['Death'].mean()], color = 'black')\n",
        "plt.xlabel('Group')\n",
        "plt.ylabel('Count')\n",
        "plt.title('Death / GEN1 / GROUP B')\n",
        "\n",
        "plt.subplot(222)\n",
        "plt.bar(['BA1', 'BB1', 'BC1', 'BD1', 'BE1'], [BA1['Kill'].mean(), BB1['Kill'].mean(), BC1['Kill'].mean(), BD1['Kill'].mean(), BE1['Kill'].mean()], color = 'red')\n",
        "plt.xlabel('Group')\n",
        "plt.ylabel('Count')\n",
        "plt.title('Kill / GEN1 / GROUP B')\n",
        "\n",
        "plt.show()"
      ]
    },
    {
      "cell_type": "code",
      "execution_count": null,
      "id": "ccc14a0b-234e-4d5f-a827-b5012345bc8f",
      "metadata": {
        "jupyter": {
          "source_hidden": true
        },
        "tags": [],
        "id": "ccc14a0b-234e-4d5f-a827-b5012345bc8f",
        "outputId": "72384722-e540-471d-f523-81ffc30e5d28"
      },
      "outputs": [
        {
          "data": {
            "image/png": "[encoded data removed]",
            "text/plain": [
              "<Figure size 432x288 with 2 Axes>"
            ]
          },
          "metadata": {
            "needs_background": "light"
          },
          "output_type": "display_data"
        }
      ],
      "source": [
        "plt.subplot(221)\n",
        "plt.bar(['CA1', 'CB1', 'CC1', 'CD1', 'CE1'], [CA1['Death'].mean(), CB1['Death'].mean(), CC1['Death'].mean(), CD1['Death'].mean(), CE1['Death'].mean()], color = 'black')\n",
        "plt.xlabel('Group')\n",
        "plt.ylabel('Count')\n",
        "plt.title('Death / GEN1 / GROUP ')\n",
        "\n",
        "plt.subplot(222)\n",
        "plt.bar(['CA1', 'CB1', 'CC1', 'CD1', 'CE1'], [CA1['Kill'].mean(), CB1['Kill'].mean(), CC1['Kill'].mean(), CD1['Kill'].mean(), CE1['Kill'].mean()], color = 'red')\n",
        "plt.xlabel('Group')\n",
        "plt.ylabel('Count')\n",
        "plt.title('Kill / GEN1 / GROUP C')\n",
        "\n",
        "plt.show()"
      ]
    },
    {
      "cell_type": "markdown",
      "id": "3ba15e15-42d9-44d4-9ade-4fffbaae45b9",
      "metadata": {
        "id": "3ba15e15-42d9-44d4-9ade-4fffbaae45b9",
        "tags": []
      },
      "source": [
        "## Win Rate / Second GENERATION"
      ]
    },
    {
      "cell_type": "markdown",
      "id": "dd89608f-deba-4b19-ba33-971f11941b05",
      "metadata": {
        "id": "dd89608f-deba-4b19-ba33-971f11941b05"
      },
      "source": [
        "##### 두번째 세대의 승률"
      ]
    },
    {
      "cell_type": "code",
      "execution_count": null,
      "id": "96593d13-cdde-4fa2-b2dc-7d0a0584bfe3",
      "metadata": {
        "id": "96593d13-cdde-4fa2-b2dc-7d0a0584bfe3",
        "jupyter": {
          "source_hidden": true
        },
        "outputId": "6ea9152b-700b-42de-a7d7-ae5c4357e55c",
        "tags": []
      },
      "outputs": [
        {
          "data": {
            "image/png": "[encoded data removed]",
            "text/plain": [
              "<Figure size 432x288 with 1 Axes>"
            ]
          },
          "metadata": {
            "needs_background": "light"
          },
          "output_type": "display_data"
        }
      ],
      "source": [
        "plt.bar(['AA2', 'AB2', 'BA2', 'BB2', 'BC2', 'BD2', 'CA2', 'CB2', 'CC2'], [AA2['rate_Win'].mean(), AB2['rate_Win'].mean(), BA2['rate_Win'].mean(), BB2['rate_Win'].mean(), BC2['rate_Win'].mean(), BD2['rate_Win'].mean(), CA2['rate_Win'].mean(), CB2['rate_Win'].mean(), CC2['rate_Win'].mean()], color = 'gold')\n",
        "plt.xlabel('Group')\n",
        "plt.ylabel('Win Rate')\n",
        "plt.title('GEN2 / Win Rate')\n",
        "plt.show()"
      ]
    },
    {
      "cell_type": "markdown",
      "id": "38e981fd-b23d-48e5-b0cf-c374d1a4bea0",
      "metadata": {
        "id": "38e981fd-b23d-48e5-b0cf-c374d1a4bea0"
      },
      "source": [
        "## AVG DEATH & KILL / Second GENERATION"
      ]
    },
    {
      "cell_type": "markdown",
      "id": "b6c7b795-80be-4298-8af0-d162a79498a9",
      "metadata": {
        "id": "b6c7b795-80be-4298-8af0-d162a79498a9"
      },
      "source": [
        "##### 두번째 세대의 평균 처치 / 사망 수"
      ]
    },
    {
      "cell_type": "code",
      "execution_count": null,
      "id": "a20bbe5f-ab4d-4bff-bf9e-f838ea2f2a1d",
      "metadata": {
        "id": "a20bbe5f-ab4d-4bff-bf9e-f838ea2f2a1d",
        "jupyter": {
          "source_hidden": true
        },
        "outputId": "4f2d01ce-93ec-4e6c-91dd-05e6864cdca9",
        "tags": []
      },
      "outputs": [
        {
          "data": {
            "image/png": "[encoded data removed]",
            "text/plain": [
              "<Figure size 432x288 with 2 Axes>"
            ]
          },
          "metadata": {
            "needs_background": "light"
          },
          "output_type": "display_data"
        }
      ],
      "source": [
        "plt.subplot(221)\n",
        "plt.bar(['AA2', 'AB2'], [AA2['Death'].mean(), AB2['Death'].mean()], color = 'black')\n",
        "plt.xlabel('Group')\n",
        "plt.ylabel('Count')\n",
        "plt.title('Death / GEN2 / GROUP A')\n",
        "plt.ylim([0, 4])\n",
        "\n",
        "\n",
        "plt.subplot(222)\n",
        "plt.bar(['AA2', 'AB2'], [AA2['Kill'].mean(), AB2['Kill'].mean()], color = 'red')\n",
        "plt.xlabel('Group')\n",
        "plt.ylabel('Count')\n",
        "plt.title('Kill / GEN2 / GROUP A')\n",
        "plt.ylim([0, 4])\n",
        "\n",
        "plt.show()"
      ]
    },
    {
      "cell_type": "code",
      "execution_count": null,
      "id": "d91b26c4-be18-4757-825b-8feb32e7509c",
      "metadata": {
        "jupyter": {
          "source_hidden": true
        },
        "tags": [],
        "id": "d91b26c4-be18-4757-825b-8feb32e7509c",
        "outputId": "97bc0722-5276-479b-9cd1-d016abad98ee"
      },
      "outputs": [
        {
          "data": {
            "image/png": "[encoded data removed]",
            "text/plain": [
              "<Figure size 432x288 with 2 Axes>"
            ]
          },
          "metadata": {
            "needs_background": "light"
          },
          "output_type": "display_data"
        }
      ],
      "source": [
        "plt.subplot(221)\n",
        "plt.bar(['BA2', 'BB2', 'BC2', 'BD2'], [BA2['Death'].mean(), BB2['Death'].mean(), BC2['Death'].mean(), BD2['Death'].mean()], color = 'black')\n",
        "plt.xlabel('Group')\n",
        "plt.ylabel('Count')\n",
        "plt.title('Death / GEN2 / GROUP B')\n",
        "plt.ylim([0, 4])\n",
        "\n",
        "plt.subplot(222)\n",
        "plt.bar(['BA2', 'BB2', 'BC2', 'BD2'], [BA2['Kill'].mean(), BB2['Kill'].mean(), BC2['Kill'].mean(), BD2['Kill'].mean()], color = 'red')\n",
        "plt.xlabel('Group')\n",
        "plt.ylabel('Count')\n",
        "plt.title('Kill / GEN2 / GROUP B')\n",
        "plt.ylim([0, 4])\n",
        "                         \n",
        "plt.show()"
      ]
    },
    {
      "cell_type": "code",
      "execution_count": null,
      "id": "840aa64d-7d15-4994-998b-bc088acb610e",
      "metadata": {
        "jupyter": {
          "source_hidden": true
        },
        "tags": [],
        "id": "840aa64d-7d15-4994-998b-bc088acb610e",
        "outputId": "6e54c321-3acd-43f6-d982-d4217633b9d3"
      },
      "outputs": [
        {
          "data": {
            "image/png": "[encoded data removed]",
            "text/plain": [
              "<Figure size 432x288 with 2 Axes>"
            ]
          },
          "metadata": {
            "needs_background": "light"
          },
          "output_type": "display_data"
        }
      ],
      "source": [
        "plt.subplot(221)\n",
        "plt.bar(['CA2', 'CB2', 'CC2'], [CA2['Death'].mean(), CB2['Death'].mean(), CC2['Death'].mean()], color = 'black')\n",
        "plt.xlabel('Group')\n",
        "plt.ylabel('Count')\n",
        "plt.title('Death / GEN2 / GROUP C')\n",
        "plt.ylim([0, 4])\n",
        "\n",
        "plt.subplot(222)\n",
        "plt.bar(['CA2', 'CB2', 'CC2'], [CA2['Kill'].mean(), CB2['Kill'].mean(), CC2['Kill'].mean()], color = 'red')\n",
        "plt.xlabel('Group')\n",
        "plt.ylabel('Count')\n",
        "plt.title('Kill / GEN2 / GROUP C')\n",
        "plt.ylim([0, 4])\n",
        "\n",
        "plt.show()"
      ]
    },
    {
      "cell_type": "markdown",
      "id": "4f9b8fc0-ab6c-4d32-9307-ec40351735ae",
      "metadata": {
        "id": "4f9b8fc0-ab6c-4d32-9307-ec40351735ae"
      },
      "source": [
        "## Compare Win Rate"
      ]
    },
    {
      "cell_type": "markdown",
      "id": "9a1d1e8c-1b34-4361-a4c8-46119529981b",
      "metadata": {
        "id": "9a1d1e8c-1b34-4361-a4c8-46119529981b"
      },
      "source": [
        "##### 1세대와 2세대의 승률 비교 그래프"
      ]
    },
    {
      "cell_type": "code",
      "execution_count": null,
      "id": "b6a23333-0768-440a-8349-d61d5e8be104",
      "metadata": {
        "jupyter": {
          "source_hidden": true
        },
        "tags": [],
        "id": "b6a23333-0768-440a-8349-d61d5e8be104",
        "outputId": "1d082fd5-ab4c-488a-9c11-7d2bfbb72d4e"
      },
      "outputs": [
        {
          "data": {
            "image/png": "[encoded data removed]",
            "text/plain": [
              "<Figure size 432x288 with 1 Axes>"
            ]
          },
          "metadata": {
            "needs_background": "light"
          },
          "output_type": "display_data"
        }
      ],
      "source": [
        "topics = ['AC1 / AB2', 'AB1 / AB2']\n",
        "value_a = [AC1['rate_Win'].mean(), AB1['rate_Win'].mean()]\n",
        "value_b = [AA2['rate_Win'].mean(), AB2['rate_Win'].mean()]\n",
        "\n",
        "def create_x(t, w, n, d):\n",
        "    return [t*x + w*n for x in range(d)]\n",
        "\n",
        "value_a_x = create_x(2, 0.8, 1, 2)\n",
        "value_b_x = create_x(2, 0.8, 2, 2)\n",
        "\n",
        "ax = plt.subplot()\n",
        "\n",
        "ax.bar(value_a_x, value_a, color = 'silver')\n",
        "ax.bar(value_b_x, value_b, color = 'gold')\n",
        "\n",
        "middle_x = [(a+b)/2 for (a,b) in zip(value_a_x, value_b_x)]\n",
        "\n",
        "ax.set_xticks(middle_x)\n",
        "ax.set_xticklabels(topics)\n",
        "plt.ylim([0, 1])\n",
        "plt.show()"
      ]
    },
    {
      "cell_type": "code",
      "execution_count": null,
      "id": "dc4b5b2b-d6e8-4fe9-8238-5a7d2067a161",
      "metadata": {
        "jupyter": {
          "source_hidden": true
        },
        "tags": [],
        "id": "dc4b5b2b-d6e8-4fe9-8238-5a7d2067a161",
        "outputId": "608543f1-cd15-497a-c1b9-4410ae0a8f87"
      },
      "outputs": [
        {
          "data": {
            "image/png": "[encoded data removed]",
            "text/plain": [
              "<Figure size 432x288 with 1 Axes>"
            ]
          },
          "metadata": {
            "needs_background": "light"
          },
          "output_type": "display_data"
        }
      ],
      "source": [
        "topics = ['BA1 / BA2','BB1 / BB2', 'BE1 / BC2']\n",
        "value_a = [BA1['rate_Win'].mean(), BB1['rate_Win'].mean(), BE1['rate_Win'].mean()]\n",
        "value_b = [BA2['rate_Win'].mean(), BB2['rate_Win'].mean(), BC2['rate_Win'].mean()]\n",
        "\n",
        "def create_x(t, w, n, d):\n",
        "    return [t*x + w*n for x in range(d)]\n",
        "\n",
        "value_a_x = create_x(2, 0.8, 1, 3)\n",
        "value_b_x = create_x(2, 0.8, 2, 3)\n",
        "\n",
        "ax = plt.subplot()\n",
        "\n",
        "ax.bar(value_a_x, value_a, color = 'silver')\n",
        "ax.bar(value_b_x, value_b, color = 'gold')\n",
        "\n",
        "middle_x = [(a+b)/2 for (a,b) in zip(value_a_x, value_b_x)]\n",
        "\n",
        "ax.set_xticks(middle_x)\n",
        "ax.set_xticklabels(topics)\n",
        "plt.ylim([0, 1])\n",
        "plt.show()"
      ]
    },
    {
      "cell_type": "code",
      "execution_count": null,
      "id": "374f6ea9-a325-4db3-97b1-1ec729488800",
      "metadata": {
        "jupyter": {
          "source_hidden": true
        },
        "tags": [],
        "id": "374f6ea9-a325-4db3-97b1-1ec729488800",
        "outputId": "55ece1d8-8e3d-438b-82c2-bfdf48cee31a"
      },
      "outputs": [
        {
          "data": {
            "image/png": "[encoded data removed]",
            "text/plain": [
              "<Figure size 432x288 with 1 Axes>"
            ]
          },
          "metadata": {
            "needs_background": "light"
          },
          "output_type": "display_data"
        }
      ],
      "source": [
        "topics = ['CB1 / CA2','CB1 / CB2','CE1 / CC2']\n",
        "value_a = [CB1['rate_Win'].mean(), CB1['rate_Win'].mean(), CE1['rate_Win'].mean()]\n",
        "value_b = [CA2['rate_Win'].mean(), CB2['rate_Win'].mean(), CC2['rate_Win'].mean()]\n",
        "\n",
        "def create_x(t, w, n, d):\n",
        "    return [t*x + w*n for x in range(d)]\n",
        "\n",
        "value_a_x = create_x(2, 0.8, 1, 3)\n",
        "value_b_x = create_x(2, 0.8, 2, 3)\n",
        "\n",
        "ax = plt.subplot()\n",
        "\n",
        "ax.bar(value_a_x, value_a, color = 'silver')\n",
        "ax.bar(value_b_x, value_b, color = 'gold')\n",
        "\n",
        "middle_x = [(a+b)/2 for (a,b) in zip(value_a_x, value_b_x)]\n",
        "\n",
        "ax.set_xticks(middle_x)\n",
        "ax.set_xticklabels(topics)\n",
        "plt.ylim([0, 1])\n",
        "plt.show()"
      ]
    },
    {
      "cell_type": "markdown",
      "id": "7cc4b57f-d654-4c20-bed2-daab474f6dcd",
      "metadata": {
        "id": "7cc4b57f-d654-4c20-bed2-daab474f6dcd",
        "tags": []
      },
      "source": [
        "## Compare Death & Kill Rate"
      ]
    },
    {
      "cell_type": "code",
      "execution_count": null,
      "id": "656b77ff-e2e8-4cab-81ef-9422d2f4d205",
      "metadata": {
        "jupyter": {
          "source_hidden": true
        },
        "tags": [],
        "id": "656b77ff-e2e8-4cab-81ef-9422d2f4d205",
        "outputId": "45a7d400-44a9-46c1-ef54-64b5b36d602a"
      },
      "outputs": [
        {
          "data": {
            "image/png": "[encoded data removed]",
            "text/plain": [
              "<Figure size 432x288 with 1 Axes>"
            ]
          },
          "metadata": {
            "needs_background": "light"
          },
          "output_type": "display_data"
        },
        {
          "data": {
            "image/png": "[encoded data removed]",
            "text/plain": [
              "<Figure size 432x288 with 1 Axes>"
            ]
          },
          "metadata": {
            "needs_background": "light"
          },
          "output_type": "display_data"
        }
      ],
      "source": [
        "topics = ['AC1 / AB2', 'AB1 / AB2']\n",
        "value_a = [AC1['Death'].mean(), AB1['Death'].mean()]\n",
        "value_b = [AA2['Death'].mean(), AB2['Death'].mean()]\n",
        "\n",
        "def create_x(t, w, n, d):\n",
        "    return [t*x + w*n for x in range(d)]\n",
        "\n",
        "value_a_x = create_x(2, 0.8, 1, 2)\n",
        "value_b_x = create_x(2, 0.8, 2, 2)\n",
        "\n",
        "ax = plt.subplot(221)\n",
        "\n",
        "ax.bar(value_a_x, value_a, color = 'black')\n",
        "ax.bar(value_b_x, value_b, color = 'black')\n",
        "\n",
        "middle_x = [(a+b)/2 for (a,b) in zip(value_a_x, value_b_x)]\n",
        "\n",
        "ax.set_xticks(middle_x)\n",
        "ax.set_xticklabels(topics)\n",
        "plt.show()\n",
        "\n",
        "topics = ['AC1 / AB2', 'AB1 / AB2']\n",
        "value_a = [AC1['Kill'].mean(), AB1['Kill'].mean()]\n",
        "value_b = [AA2['Kill'].mean(), AB2['Kill'].mean()]\n",
        "\n",
        "value_a_x = create_x(2, 0.8, 1, 2)\n",
        "value_b_x = create_x(2, 0.8, 2, 2)\n",
        "\n",
        "ax = plt.subplot(222)\n",
        "\n",
        "ax.bar(value_a_x, value_a, color = 'red')\n",
        "ax.bar(value_b_x, value_b, color = 'red')\n",
        "plt.ylim([0, 4])\n",
        "\n",
        "middle_x = [(a+b)/2 for (a,b) in zip(value_a_x, value_b_x)]\n",
        "\n",
        "ax.set_xticks(middle_x)\n",
        "ax.set_xticklabels(topics)\n",
        "plt.show()"
      ]
    },
    {
      "cell_type": "code",
      "execution_count": null,
      "id": "683856de-b15b-471d-8eff-6a9c2f2969aa",
      "metadata": {
        "jupyter": {
          "source_hidden": true
        },
        "tags": [],
        "id": "683856de-b15b-471d-8eff-6a9c2f2969aa",
        "outputId": "7aaac3bf-f20b-4807-910f-2d13fc61f35f"
      },
      "outputs": [
        {
          "data": {
            "image/png": "[encoded data removed]",
            "text/plain": [
              "<Figure size 432x288 with 1 Axes>"
            ]
          },
          "metadata": {
            "needs_background": "light"
          },
          "output_type": "display_data"
        },
        {
          "data": {
            "image/png": "[encoded data removed]",
            "text/plain": [
              "<Figure size 432x288 with 1 Axes>"
            ]
          },
          "metadata": {
            "needs_background": "light"
          },
          "output_type": "display_data"
        }
      ],
      "source": [
        "topics = ['BA1 / BA2', 'BB1 / BB2', 'BE1 / BC2']\n",
        "value_a = [BA1['Death'].mean(), BB1['Death'].mean(), BE1['Death'].mean()]\n",
        "value_b = [BA2['Death'].mean(), BB2['Death'].mean(), BC2['Death'].mean()]\n",
        "\n",
        "def create_x(t, w, n, d):\n",
        "    return [t*x + w*n for x in range(d)]\n",
        "\n",
        "value_a_x = create_x(2, 0.8, 1, 3)\n",
        "value_b_x = create_x(2, 0.8, 2, 3)\n",
        "\n",
        "ax = plt.subplot(221)\n",
        "\n",
        "ax.bar(value_a_x, value_a, color = 'black')\n",
        "ax.bar(value_b_x, value_b, color = 'black')\n",
        "\n",
        "middle_x = [(a+b)/2 for (a,b) in zip(value_a_x, value_b_x)]\n",
        "\n",
        "ax.set_xticks(middle_x)\n",
        "ax.set_xticklabels(topics)\n",
        "plt.show()\n",
        "\n",
        "topics = ['BA1 / BA2', 'BB1 / BB2', 'BE1 / BC2']\n",
        "value_a = [BA1['Kill'].mean(), BB1['Kill'].mean(), BE1['Kill'].mean()]\n",
        "value_b = [BA2['Kill'].mean(), BB2['Kill'].mean(), BC2['Kill'].mean()]\n",
        "\n",
        "value_a_x = create_x(2, 0.8, 1, 3)\n",
        "value_b_x = create_x(2, 0.8, 2, 3)\n",
        "\n",
        "\n",
        "ax = plt.subplot(222)\n",
        "\n",
        "ax.bar(value_a_x, value_a, color = 'red')\n",
        "ax.bar(value_b_x, value_b, color = 'red')\n",
        "plt.ylim([0, 4])\n",
        "\n",
        "middle_x = [(a+b)/2 for (a,b) in zip(value_a_x, value_b_x)]\n",
        "\n",
        "ax.set_xticks(middle_x)\n",
        "ax.set_xticklabels(topics)\n",
        "plt.show()"
      ]
    },
    {
      "cell_type": "code",
      "execution_count": null,
      "id": "71c68794-ddc0-4455-b091-01d897183da1",
      "metadata": {
        "jupyter": {
          "source_hidden": true
        },
        "tags": [],
        "id": "71c68794-ddc0-4455-b091-01d897183da1",
        "outputId": "0c897102-0baf-48fd-9cce-5bda18af9070"
      },
      "outputs": [
        {
          "data": {
            "image/png": "[encoded data removed]",
            "text/plain": [
              "<Figure size 432x288 with 1 Axes>"
            ]
          },
          "metadata": {
            "needs_background": "light"
          },
          "output_type": "display_data"
        },
        {
          "data": {
            "image/png": "[encoded data removed]",
            "text/plain": [
              "<Figure size 432x288 with 1 Axes>"
            ]
          },
          "metadata": {
            "needs_background": "light"
          },
          "output_type": "display_data"
        }
      ],
      "source": [
        "topics = ['CB1 / CA2','CB1 / CB2','CE1 / CC2']\n",
        "value_a = [CB1['Death'].mean(), CB1['Death'].mean(), CE1['Death'].mean()]\n",
        "value_b = [CA2['Death'].mean(), CB2['Death'].mean(), CC2['Death'].mean()]\n",
        "\n",
        "def create_x(t, w, n, d):\n",
        "    return [t*x + w*n for x in range(d)]\n",
        "\n",
        "value_a_x = create_x(2, 0.8, 1, 3)\n",
        "value_b_x = create_x(2, 0.8, 2, 3)\n",
        "\n",
        "ax = plt.subplot(221)\n",
        "\n",
        "ax.bar(value_a_x, value_a, color = 'black')\n",
        "ax.bar(value_b_x, value_b, color = 'black')\n",
        "\n",
        "middle_x = [(a+b)/2 for (a,b) in zip(value_a_x, value_b_x)]\n",
        "\n",
        "ax.set_xticks(middle_x)\n",
        "ax.set_xticklabels(topics)\n",
        "plt.show()\n",
        "\n",
        "topics = ['CB1 / CA2','CB1 / CB2','CE1 / CC2']\n",
        "value_a = [CB1['Kill'].mean(), CB1['Kill'].mean(), CE1['Kill'].mean()]\n",
        "value_b = [CA2['Kill'].mean(), CB2['Kill'].mean(), CC2['Kill'].mean()]\n",
        "\n",
        "value_a_x = create_x(2, 0.8, 1, 3)\n",
        "value_b_x = create_x(2, 0.8, 2, 3)\n",
        "\n",
        "\n",
        "ax = plt.subplot(222)\n",
        "\n",
        "ax.bar(value_a_x, value_a, color = 'red')\n",
        "ax.bar(value_b_x, value_b, color = 'red')\n",
        "plt.ylim([0, 4])\n",
        "\n",
        "middle_x = [(a+b)/2 for (a,b) in zip(value_a_x, value_b_x)]\n",
        "\n",
        "ax.set_xticks(middle_x)\n",
        "ax.set_xticklabels(topics)\n",
        "plt.show()"
      ]
    },
    {
      "cell_type": "markdown",
      "id": "e01c88f5-a17e-4702-8a0e-c1dfdd27414c",
      "metadata": {
        "id": "e01c88f5-a17e-4702-8a0e-c1dfdd27414c"
      },
      "source": [
        "##### 상기 데이터들을 정리해본다면, 승률이 낮은 Group들이 승률의 높은 Group과 Mating하게 되면 전체적으로 승률이 상승하고, 평균 처치수는 증가, 평균 사망수는 감소하는 것을 볼 수 있다. \n",
        "##### 즉, 반대로 말하면 승률이 높은 그룹은 그만큼 부정적인 효과를 보았다는 뜻이다.\n",
        "##### 원래 데이터 추출의 목적이었던 승률 50%맞추기에 한 발자국 더 다가간 것을 확인할 수 있다."
      ]
    },
    {
      "cell_type": "markdown",
      "id": "769e9757-2d1b-4bf2-a9b9-7d8090cd013b",
      "metadata": {
        "id": "769e9757-2d1b-4bf2-a9b9-7d8090cd013b"
      },
      "source": [
        "# Machine Learning"
      ]
    },
    {
      "cell_type": "markdown",
      "id": "0104b47a-078d-4c28-babb-e3932e67905d",
      "metadata": {
        "id": "0104b47a-078d-4c28-babb-e3932e67905d"
      },
      "source": [
        "## Regression"
      ]
    },
    {
      "cell_type": "code",
      "execution_count": null,
      "id": "3ac320e1-7777-46ca-8c33-0fff024fd46a",
      "metadata": {
        "id": "3ac320e1-7777-46ca-8c33-0fff024fd46a",
        "outputId": "834d3992-3abc-4a6e-e84b-0c836ffcf1f1"
      },
      "outputs": [
        {
          "data": {
            "text/html": [
              "<div>\n",
              "<style scoped>\n",
              "    .dataframe tbody tr th:only-of-type {\n",
              "        vertical-align: middle;\n",
              "    }\n",
              "\n",
              "    .dataframe tbody tr th {\n",
              "        vertical-align: top;\n",
              "    }\n",
              "\n",
              "    .dataframe thead th {\n",
              "        text-align: right;\n",
              "    }\n",
              "</style>\n",
              "<table border=\"1\" class=\"dataframe\">\n",
              "  <thead>\n",
              "    <tr style=\"text-align: right;\">\n",
              "      <th></th>\n",
              "      <th>GEN1</th>\n",
              "      <th>GEN2</th>\n",
              "    </tr>\n",
              "  </thead>\n",
              "  <tbody>\n",
              "    <tr>\n",
              "      <th>0</th>\n",
              "      <td>0.3</td>\n",
              "      <td>0.5</td>\n",
              "    </tr>\n",
              "    <tr>\n",
              "      <th>1</th>\n",
              "      <td>0.0</td>\n",
              "      <td>0.5</td>\n",
              "    </tr>\n",
              "    <tr>\n",
              "      <th>2</th>\n",
              "      <td>0.3</td>\n",
              "      <td>0.2</td>\n",
              "    </tr>\n",
              "    <tr>\n",
              "      <th>3</th>\n",
              "      <td>0.0</td>\n",
              "      <td>0.3</td>\n",
              "    </tr>\n",
              "    <tr>\n",
              "      <th>4</th>\n",
              "      <td>0.1</td>\n",
              "      <td>0.1</td>\n",
              "    </tr>\n",
              "    <tr>\n",
              "      <th>5</th>\n",
              "      <td>0.5</td>\n",
              "      <td>1.0</td>\n",
              "    </tr>\n",
              "    <tr>\n",
              "      <th>6</th>\n",
              "      <td>0.5</td>\n",
              "      <td>0.0</td>\n",
              "    </tr>\n",
              "    <tr>\n",
              "      <th>7</th>\n",
              "      <td>0.3</td>\n",
              "      <td>0.6</td>\n",
              "    </tr>\n",
              "  </tbody>\n",
              "</table>\n",
              "</div>"
            ],
            "text/plain": [
              "   GEN1  GEN2\n",
              "0   0.3   0.5\n",
              "1   0.0   0.5\n",
              "2   0.3   0.2\n",
              "3   0.0   0.3\n",
              "4   0.1   0.1\n",
              "5   0.5   1.0\n",
              "6   0.5   0.0\n",
              "7   0.3   0.6"
            ]
          },
          "execution_count": 114,
          "metadata": {},
          "output_type": "execute_result"
        }
      ],
      "source": [
        "data = {'GEN1': [AC1['rate_Win'].mean(), AB1['rate_Win'].mean(), BA1['rate_Win'].mean(), BB1['rate_Win'].mean(), BE1['rate_Win'].mean(), CB1['rate_Win'].mean(), CB1['rate_Win'].mean(), CE1['rate_Win'].mean()],\n",
        "        'GEN2': [AA2['rate_Win'].mean(), AB2['rate_Win'].mean(), BA2['rate_Win'].mean(), BB2['rate_Win'].mean(), BC2['rate_Win'].mean(), CA2['rate_Win'].mean(), CB2['rate_Win'].mean(), CC2['rate_Win'].mean()]\n",
        "       }\n",
        "df = pd.DataFrame(data)\n",
        "df"
      ]
    },
    {
      "cell_type": "code",
      "execution_count": null,
      "id": "15e6eb2f-bc42-4d50-8ba1-7477679f9dec",
      "metadata": {
        "id": "15e6eb2f-bc42-4d50-8ba1-7477679f9dec",
        "outputId": "bd995b3a-0cc2-4408-887e-163a952c6edd"
      },
      "outputs": [
        {
          "data": {
            "image/png": "[encoded data removed]",
            "text/plain": [
              "<Figure size 432x288 with 1 Axes>"
            ]
          },
          "metadata": {
            "needs_background": "light"
          },
          "output_type": "display_data"
        }
      ],
      "source": [
        "X = df[\"GEN1\"]\n",
        "y = df[\"GEN2\"]\n",
        "plt.plot(X, y, 'o')\n",
        "plt.show()"
      ]
    },
    {
      "cell_type": "code",
      "execution_count": null,
      "id": "887fc50b-e658-45a3-96af-10b71212629d",
      "metadata": {
        "id": "887fc50b-e658-45a3-96af-10b71212629d",
        "outputId": "7dec4314-bd99-4782-88d8-bc1b621416c5"
      },
      "outputs": [
        {
          "data": {
            "image/png": "[encoded data removed]",
            "text/plain": [
              "<Figure size 432x288 with 1 Axes>"
            ]
          },
          "metadata": {
            "needs_background": "light"
          },
          "output_type": "display_data"
        }
      ],
      "source": [
        "line_filtter = LinearRegression()\n",
        "line_filtter.fit(X.values.reshape(-1,1), y)\n",
        "\n",
        "plt.plot(X, y, 'o')\n",
        "plt.plot(X,line_filtter.predict(X.values.reshape(-1,1)))\n",
        "plt.show()"
      ]
    },
    {
      "cell_type": "markdown",
      "id": "760c9183-cb22-4932-9f38-4175da1050fb",
      "metadata": {
        "id": "760c9183-cb22-4932-9f38-4175da1050fb"
      },
      "source": [
        "##### 선형회귀를 살펴 본다면, 전반적인 승률이 상승하는 것을 확인 할 수 있다. 이를 바탕으로 승률이 낮은 Group과 높은 Group간의 Mating 결과를 예측할 수 있으며 이에 따라 게임의 벨런스를 맞추는 작업을 보다 쉽게 진행할 수 있게 되었다."
      ]
    }
  ],
  "metadata": {
    "colab": {
      "name": "DAP_PROJECT.ipynb",
      "provenance": [],
      "collapsed_sections": [],
      "include_colab_link": true
    },
    "kernelspec": {
      "display_name": "Python 3",
      "language": "python",
      "name": "python3"
    },
    "language_info": {
      "codemirror_mode": {
        "name": "ipython",
        "version": 3
      },
      "file_extension": ".py",
      "mimetype": "text/x-python",
      "name": "python",
      "nbconvert_exporter": "python",
      "pygments_lexer": "ipython3",
      "version": "3.8.8"
    }
  },
  "nbformat": 4,
  "nbformat_minor": 5
}