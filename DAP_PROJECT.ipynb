{
  "cells": [
    {
      "cell_type": "markdown",
      "metadata": {
        "id": "view-in-github",
        "colab_type": "text"
      },
      "source": [
        "<a href=\"https://colab.research.google.com/github/applejin0105/DAP_FINAL_PROJECT/blob/main/DAP_PROJECT.ipynb\" target=\"_parent\"><img src=\"https://colab.research.google.com/assets/colab-badge.svg\" alt=\"Open In Colab\"/></a>"
      ]
    },
    {
      "cell_type": "markdown",
      "id": "194996d2-c386-42b1-8031-bab890f963d7",
      "metadata": {
        "id": "194996d2-c386-42b1-8031-bab890f963d7"
      },
      "source": [
        "# DAP_FINAL_PROJECT"
      ]
    },
    {
      "cell_type": "code",
      "execution_count": null,
      "id": "b36a3628-9f11-4f4f-b31b-d5bd19b7c25a",
      "metadata": {
        "id": "b36a3628-9f11-4f4f-b31b-d5bd19b7c25a"
      },
      "outputs": [],
      "source": [
        "from sklearn.linear_model import LinearRegression\n",
        "import pandas as pd\n",
        "import numpy as np\n",
        "import seaborn as sns\n",
        "import matplotlib.pyplot as plt"
      ]
    },
    {
      "cell_type": "code",
      "execution_count": null,
      "id": "73ccdc5d-aa6b-4b5d-bdd1-49dc06b34712",
      "metadata": {
        "id": "73ccdc5d-aa6b-4b5d-bdd1-49dc06b34712",
        "outputId": "6977f0b2-f861-4a6a-cc22-764795784554"
      },
      "outputs": [
        {
          "data": {
            "text/html": [
              "<div>\n",
              "<style scoped>\n",
              "    .dataframe tbody tr th:only-of-type {\n",
              "        vertical-align: middle;\n",
              "    }\n",
              "\n",
              "    .dataframe tbody tr th {\n",
              "        vertical-align: top;\n",
              "    }\n",
              "\n",
              "    .dataframe thead th {\n",
              "        text-align: right;\n",
              "    }\n",
              "</style>\n",
              "<table border=\"1\" class=\"dataframe\">\n",
              "  <thead>\n",
              "    <tr style=\"text-align: right;\">\n",
              "      <th></th>\n",
              "      <th>Type</th>\n",
              "      <th>Generation</th>\n",
              "      <th>Group</th>\n",
              "      <th>Result</th>\n",
              "      <th>Count</th>\n",
              "      <th>Death</th>\n",
              "      <th>Kill</th>\n",
              "    </tr>\n",
              "  </thead>\n",
              "  <tbody>\n",
              "    <tr>\n",
              "      <th>0</th>\n",
              "      <td>A</td>\n",
              "      <td>1</td>\n",
              "      <td>A</td>\n",
              "      <td>Win</td>\n",
              "      <td>1</td>\n",
              "      <td>2</td>\n",
              "      <td>4</td>\n",
              "    </tr>\n",
              "    <tr>\n",
              "      <th>1</th>\n",
              "      <td>A</td>\n",
              "      <td>1</td>\n",
              "      <td>A</td>\n",
              "      <td>Win</td>\n",
              "      <td>2</td>\n",
              "      <td>1</td>\n",
              "      <td>4</td>\n",
              "    </tr>\n",
              "    <tr>\n",
              "      <th>2</th>\n",
              "      <td>A</td>\n",
              "      <td>1</td>\n",
              "      <td>A</td>\n",
              "      <td>Win</td>\n",
              "      <td>3</td>\n",
              "      <td>2</td>\n",
              "      <td>4</td>\n",
              "    </tr>\n",
              "    <tr>\n",
              "      <th>3</th>\n",
              "      <td>A</td>\n",
              "      <td>1</td>\n",
              "      <td>A</td>\n",
              "      <td>Lose</td>\n",
              "      <td>4</td>\n",
              "      <td>4</td>\n",
              "      <td>1</td>\n",
              "    </tr>\n",
              "    <tr>\n",
              "      <th>4</th>\n",
              "      <td>A</td>\n",
              "      <td>1</td>\n",
              "      <td>A</td>\n",
              "      <td>Win</td>\n",
              "      <td>5</td>\n",
              "      <td>2</td>\n",
              "      <td>4</td>\n",
              "    </tr>\n",
              "    <tr>\n",
              "      <th>...</th>\n",
              "      <td>...</td>\n",
              "      <td>...</td>\n",
              "      <td>...</td>\n",
              "      <td>...</td>\n",
              "      <td>...</td>\n",
              "      <td>...</td>\n",
              "      <td>...</td>\n",
              "    </tr>\n",
              "    <tr>\n",
              "      <th>235</th>\n",
              "      <td>C</td>\n",
              "      <td>2</td>\n",
              "      <td>C</td>\n",
              "      <td>Win</td>\n",
              "      <td>6</td>\n",
              "      <td>2</td>\n",
              "      <td>4</td>\n",
              "    </tr>\n",
              "    <tr>\n",
              "      <th>236</th>\n",
              "      <td>C</td>\n",
              "      <td>2</td>\n",
              "      <td>C</td>\n",
              "      <td>Win</td>\n",
              "      <td>7</td>\n",
              "      <td>1</td>\n",
              "      <td>4</td>\n",
              "    </tr>\n",
              "    <tr>\n",
              "      <th>237</th>\n",
              "      <td>C</td>\n",
              "      <td>2</td>\n",
              "      <td>C</td>\n",
              "      <td>Lose</td>\n",
              "      <td>8</td>\n",
              "      <td>4</td>\n",
              "      <td>2</td>\n",
              "    </tr>\n",
              "    <tr>\n",
              "      <th>238</th>\n",
              "      <td>C</td>\n",
              "      <td>2</td>\n",
              "      <td>C</td>\n",
              "      <td>Win</td>\n",
              "      <td>9</td>\n",
              "      <td>1</td>\n",
              "      <td>4</td>\n",
              "    </tr>\n",
              "    <tr>\n",
              "      <th>239</th>\n",
              "      <td>C</td>\n",
              "      <td>2</td>\n",
              "      <td>C</td>\n",
              "      <td>Lose</td>\n",
              "      <td>10</td>\n",
              "      <td>4</td>\n",
              "      <td>0</td>\n",
              "    </tr>\n",
              "  </tbody>\n",
              "</table>\n",
              "<p>240 rows × 7 columns</p>\n",
              "</div>"
            ],
            "text/plain": [
              "    Type  Generation Group Result  Count  Death  Kill\n",
              "0      A           1     A    Win      1      2     4\n",
              "1      A           1     A    Win      2      1     4\n",
              "2      A           1     A    Win      3      2     4\n",
              "3      A           1     A   Lose      4      4     1\n",
              "4      A           1     A    Win      5      2     4\n",
              "..   ...         ...   ...    ...    ...    ...   ...\n",
              "235    C           2     C    Win      6      2     4\n",
              "236    C           2     C    Win      7      1     4\n",
              "237    C           2     C   Lose      8      4     2\n",
              "238    C           2     C    Win      9      1     4\n",
              "239    C           2     C   Lose     10      4     0\n",
              "\n",
              "[240 rows x 7 columns]"
            ]
          },
          "execution_count": 206,
          "metadata": {},
          "output_type": "execute_result"
        }
      ],
      "source": [
        "original_df = pd.read_csv('DAP_PROJECT.csv')\n",
        "original_df"
      ]
    },
    {
      "cell_type": "code",
      "execution_count": null,
      "id": "fba08859-f8db-415c-8f21-348aaeeff396",
      "metadata": {
        "id": "fba08859-f8db-415c-8f21-348aaeeff396",
        "outputId": "33412fe8-7143-4377-9944-d3071320477c"
      },
      "outputs": [
        {
          "data": {
            "text/html": [
              "<div>\n",
              "<style scoped>\n",
              "    .dataframe tbody tr th:only-of-type {\n",
              "        vertical-align: middle;\n",
              "    }\n",
              "\n",
              "    .dataframe tbody tr th {\n",
              "        vertical-align: top;\n",
              "    }\n",
              "\n",
              "    .dataframe thead th {\n",
              "        text-align: right;\n",
              "    }\n",
              "</style>\n",
              "<table border=\"1\" class=\"dataframe\">\n",
              "  <thead>\n",
              "    <tr style=\"text-align: right;\">\n",
              "      <th></th>\n",
              "      <th>Type</th>\n",
              "      <th>Generation</th>\n",
              "      <th>Group</th>\n",
              "      <th>Count</th>\n",
              "      <th>Death</th>\n",
              "      <th>Kill</th>\n",
              "      <th>rate_Lose</th>\n",
              "      <th>rate_Win</th>\n",
              "    </tr>\n",
              "  </thead>\n",
              "  <tbody>\n",
              "    <tr>\n",
              "      <th>0</th>\n",
              "      <td>A</td>\n",
              "      <td>1</td>\n",
              "      <td>A</td>\n",
              "      <td>1</td>\n",
              "      <td>2</td>\n",
              "      <td>4</td>\n",
              "      <td>0</td>\n",
              "      <td>1</td>\n",
              "    </tr>\n",
              "    <tr>\n",
              "      <th>1</th>\n",
              "      <td>A</td>\n",
              "      <td>1</td>\n",
              "      <td>A</td>\n",
              "      <td>2</td>\n",
              "      <td>1</td>\n",
              "      <td>4</td>\n",
              "      <td>0</td>\n",
              "      <td>1</td>\n",
              "    </tr>\n",
              "    <tr>\n",
              "      <th>2</th>\n",
              "      <td>A</td>\n",
              "      <td>1</td>\n",
              "      <td>A</td>\n",
              "      <td>3</td>\n",
              "      <td>2</td>\n",
              "      <td>4</td>\n",
              "      <td>0</td>\n",
              "      <td>1</td>\n",
              "    </tr>\n",
              "    <tr>\n",
              "      <th>3</th>\n",
              "      <td>A</td>\n",
              "      <td>1</td>\n",
              "      <td>A</td>\n",
              "      <td>4</td>\n",
              "      <td>4</td>\n",
              "      <td>1</td>\n",
              "      <td>1</td>\n",
              "      <td>0</td>\n",
              "    </tr>\n",
              "    <tr>\n",
              "      <th>4</th>\n",
              "      <td>A</td>\n",
              "      <td>1</td>\n",
              "      <td>A</td>\n",
              "      <td>5</td>\n",
              "      <td>2</td>\n",
              "      <td>4</td>\n",
              "      <td>0</td>\n",
              "      <td>1</td>\n",
              "    </tr>\n",
              "    <tr>\n",
              "      <th>...</th>\n",
              "      <td>...</td>\n",
              "      <td>...</td>\n",
              "      <td>...</td>\n",
              "      <td>...</td>\n",
              "      <td>...</td>\n",
              "      <td>...</td>\n",
              "      <td>...</td>\n",
              "      <td>...</td>\n",
              "    </tr>\n",
              "    <tr>\n",
              "      <th>235</th>\n",
              "      <td>C</td>\n",
              "      <td>2</td>\n",
              "      <td>C</td>\n",
              "      <td>6</td>\n",
              "      <td>2</td>\n",
              "      <td>4</td>\n",
              "      <td>0</td>\n",
              "      <td>1</td>\n",
              "    </tr>\n",
              "    <tr>\n",
              "      <th>236</th>\n",
              "      <td>C</td>\n",
              "      <td>2</td>\n",
              "      <td>C</td>\n",
              "      <td>7</td>\n",
              "      <td>1</td>\n",
              "      <td>4</td>\n",
              "      <td>0</td>\n",
              "      <td>1</td>\n",
              "    </tr>\n",
              "    <tr>\n",
              "      <th>237</th>\n",
              "      <td>C</td>\n",
              "      <td>2</td>\n",
              "      <td>C</td>\n",
              "      <td>8</td>\n",
              "      <td>4</td>\n",
              "      <td>2</td>\n",
              "      <td>1</td>\n",
              "      <td>0</td>\n",
              "    </tr>\n",
              "    <tr>\n",
              "      <th>238</th>\n",
              "      <td>C</td>\n",
              "      <td>2</td>\n",
              "      <td>C</td>\n",
              "      <td>9</td>\n",
              "      <td>1</td>\n",
              "      <td>4</td>\n",
              "      <td>0</td>\n",
              "      <td>1</td>\n",
              "    </tr>\n",
              "    <tr>\n",
              "      <th>239</th>\n",
              "      <td>C</td>\n",
              "      <td>2</td>\n",
              "      <td>C</td>\n",
              "      <td>10</td>\n",
              "      <td>4</td>\n",
              "      <td>0</td>\n",
              "      <td>1</td>\n",
              "      <td>0</td>\n",
              "    </tr>\n",
              "  </tbody>\n",
              "</table>\n",
              "<p>240 rows × 8 columns</p>\n",
              "</div>"
            ],
            "text/plain": [
              "    Type  Generation Group  Count  Death  Kill  rate_Lose  rate_Win\n",
              "0      A           1     A      1      2     4          0         1\n",
              "1      A           1     A      2      1     4          0         1\n",
              "2      A           1     A      3      2     4          0         1\n",
              "3      A           1     A      4      4     1          1         0\n",
              "4      A           1     A      5      2     4          0         1\n",
              "..   ...         ...   ...    ...    ...   ...        ...       ...\n",
              "235    C           2     C      6      2     4          0         1\n",
              "236    C           2     C      7      1     4          0         1\n",
              "237    C           2     C      8      4     2          1         0\n",
              "238    C           2     C      9      1     4          0         1\n",
              "239    C           2     C     10      4     0          1         0\n",
              "\n",
              "[240 rows x 8 columns]"
            ]
          },
          "execution_count": 207,
          "metadata": {},
          "output_type": "execute_result"
        }
      ],
      "source": [
        "df = pd.get_dummies(original_df, prefix=['rate'], columns=['Result'])\n",
        "df"
      ]
    },
    {
      "cell_type": "markdown",
      "id": "7315e3d7-7e45-4e34-b057-9d0ecac83cf3",
      "metadata": {
        "tags": [],
        "id": "7315e3d7-7e45-4e34-b057-9d0ecac83cf3"
      },
      "source": [
        "## Divide Group"
      ]
    },
    {
      "cell_type": "code",
      "execution_count": null,
      "id": "f9d62da8-dac0-4b40-866a-b5e31defe925",
      "metadata": {
        "jupyter": {
          "source_hidden": true
        },
        "tags": [],
        "id": "f9d62da8-dac0-4b40-866a-b5e31defe925"
      },
      "outputs": [],
      "source": [
        "Type_A = df['Type'] == 'A'\n",
        "Type_B = df['Type'] == 'B'\n",
        "Type_C = df['Type'] == 'C'\n",
        "\n",
        "Group_A = df['Group'] == 'A'\n",
        "Group_B = df['Group'] == 'B'\n",
        "Group_C = df['Group'] == 'C'\n",
        "Group_D = df['Group'] == 'D'\n",
        "Group_E = df['Group'] == 'E'\n",
        "\n",
        "Generation1 = df['Generation'] == 1\n",
        "Generation2 = df['Generation'] == 2\n",
        "\n",
        "AA1 = df[Type_A & Group_A & Generation1]\n",
        "AB1 = df[Type_A & Group_B & Generation1]\n",
        "AC1 = df[Type_A & Group_C & Generation1]\n",
        "AD1 = df[Type_A & Group_D & Generation1]\n",
        "AE1 = df[Type_A & Group_E & Generation1]\n",
        "\n",
        "AA2 = df[Type_A & Group_A & Generation2]\n",
        "AB2 = df[Type_A & Group_B & Generation2]\n",
        "\n",
        "BA1 = df[Type_B & Group_A & Generation1]\n",
        "BB1 = df[Type_B & Group_B & Generation1]\n",
        "BC1 = df[Type_B & Group_C & Generation1]\n",
        "BD1 = df[Type_B & Group_D & Generation1]\n",
        "BE1 = df[Type_B & Group_E & Generation1]\n",
        "\n",
        "BA2 = df[Type_B & Group_A & Generation2]\n",
        "BB2 = df[Type_B & Group_B & Generation2]\n",
        "BC2 = df[Type_B & Group_C & Generation2]\n",
        "BD2 = df[Type_B & Group_D & Generation2]\n",
        "\n",
        "CA1 = df[Type_C & Group_A & Generation1]\n",
        "CB1 = df[Type_C & Group_B & Generation1]\n",
        "CC1 = df[Type_C & Group_C & Generation1]\n",
        "CD1 = df[Type_C & Group_D & Generation1]\n",
        "CE1 = df[Type_C & Group_E & Generation1]\n",
        "\n",
        "CA2 = df[Type_C & Group_A & Generation2]\n",
        "CB2 = df[Type_C & Group_B & Generation2]\n",
        "CC2 = df[Type_C & Group_C & Generation2]"
      ]
    },
    {
      "cell_type": "markdown",
      "id": "ddb62763-4744-4c65-ad05-f4c684b8cb89",
      "metadata": {
        "id": "ddb62763-4744-4c65-ad05-f4c684b8cb89"
      },
      "source": [
        "## VISUALIZATION / Win Rate / FIRST GENERATION"
      ]
    },
    {
      "cell_type": "code",
      "execution_count": null,
      "id": "100be26f-788f-4653-9866-1bc49125653d",
      "metadata": {
        "id": "100be26f-788f-4653-9866-1bc49125653d",
        "outputId": "6686f2c9-8605-456c-ff38-e4206c831efb"
      },
      "outputs": [
        {
          "data": {
            "image/png": "[encoded data removed]",
            "text/plain": [
              "<Figure size 432x288 with 1 Axes>"
            ]
          },
          "metadata": {
            "needs_background": "light"
          },
          "output_type": "display_data"
        }
      ],
      "source": [
        "plt.plot(['AA1', 'AB1', 'AC1', 'AD1', 'AE1'], [AA1['rate_Win'].mean(), AB1['rate_Win'].mean(), AC1['rate_Win'].mean(), AD1['rate_Win'].mean(), AE1['rate_Win'].mean()])\n",
        "plt.scatter(['AA1', 'AB1', 'AC1', 'AD1', 'AE1'], [AA1['rate_Win'].mean(), AB1['rate_Win'].mean(), AC1['rate_Win'].mean(), AD1['rate_Win'].mean(), AE1['rate_Win'].mean()])\n",
        "plt.plot(['BA1', 'BB1', 'BC1', 'BD1', 'BE1'], [BA1['rate_Win'].mean(), BB1['rate_Win'].mean(), BC1['rate_Win'].mean(), BD1['rate_Win'].mean(), BE1['rate_Win'].mean()])\n",
        "plt.scatter(['BA1', 'BB1', 'BC1', 'BD1', 'BE1'], [BA1['rate_Win'].mean(), BB1['rate_Win'].mean(), BC1['rate_Win'].mean(), BD1['rate_Win'].mean(), BE1['rate_Win'].mean()])\n",
        "plt.plot(['CA1', 'CB1', 'CC1', 'CD1', 'CE1'], [CA1['rate_Win'].mean(), CB1['rate_Win'].mean(), CC1['rate_Win'].mean(), CD1['rate_Win'].mean(), CE1['rate_Win'].mean()])\n",
        "plt.scatter(['CA1', 'CB1', 'CC1', 'CD1', 'CE1'], [CA1['rate_Win'].mean(), CB1['rate_Win'].mean(), CC1['rate_Win'].mean(), CD1['rate_Win'].mean(), CE1['rate_Win'].mean()])\n",
        "plt.show()"
      ]
    },
    {
      "cell_type": "markdown",
      "id": "1b947980-de77-4a41-927a-b4b2c843bb15",
      "metadata": {
        "id": "1b947980-de77-4a41-927a-b4b2c843bb15"
      },
      "source": [
        "## VISUALIZATION / AVG DEATH & KILL / FIRST GENERATION"
      ]
    },
    {
      "cell_type": "code",
      "execution_count": null,
      "id": "dcae72cf-d8f3-4509-8bc2-6d34d201c4d9",
      "metadata": {
        "id": "dcae72cf-d8f3-4509-8bc2-6d34d201c4d9",
        "outputId": "a02b7994-ce02-44eb-9278-a2baf88f0932"
      },
      "outputs": [
        {
          "data": {
            "image/png": "[encoded data removed]",
            "text/plain": [
              "<Figure size 432x288 with 1 Axes>"
            ]
          },
          "metadata": {
            "needs_background": "light"
          },
          "output_type": "display_data"
        }
      ],
      "source": [
        "plt.plot(['AA1', 'AB1', 'AC1', 'AD1', 'AE1'], [AA1['Death'].mean(), AB1['Death'].mean(), AC1['Death'].mean(), AD1['Death'].mean(), AE1['Death'].mean()], 'r')\n",
        "plt.scatter(['AA1', 'AB1', 'AC1', 'AD1', 'AE1'], [AA1['Death'].mean(), AB1['Death'].mean(), AC1['Death'].mean(), AD1['Death'].mean(), AE1['Death'].mean()], color = 'red')\n",
        "plt.plot(['AA1', 'AB1', 'AC1', 'AD1', 'AE1'], [AA1['Kill'].mean(), AB1['Kill'].mean(), AC1['Kill'].mean(), AD1['Kill'].mean(), AE1['Kill'].mean()], 'b')\n",
        "plt.scatter(['AA1', 'AB1', 'AC1', 'AD1', 'AE1'], [AA1['Kill'].mean(), AB1['Kill'].mean(), AC1['Kill'].mean(), AD1['Kill'].mean(), AE1['Kill'].mean()], color = 'blue')\n",
        "plt.plot(['BA1', 'BB1', 'BC1', 'BD1', 'BE1'], [BA1['Death'].mean(), BB1['Death'].mean(), BC1['Death'].mean(), BD1['Death'].mean(), BE1['Death'].mean()], 'r')\n",
        "plt.scatter(['BA1', 'BB1', 'BC1', 'BD1', 'BE1'], [BA1['Death'].mean(), BB1['Death'].mean(), BC1['Death'].mean(), BD1['Death'].mean(), BE1['Death'].mean()], color = 'red')\n",
        "plt.plot(['BA1', 'BB1', 'BC1', 'BD1', 'BE1'], [BA1['Kill'].mean(), BB1['Kill'].mean(), BC1['Kill'].mean(), BD1['Kill'].mean(), BE1['Kill'].mean()], 'b')\n",
        "plt.scatter(['BA1', 'BB1', 'BC1', 'BD1', 'BE1'], [BA1['Kill'].mean(), BB1['Kill'].mean(), BC1['Kill'].mean(), BD1['Kill'].mean(), BE1['Kill'].mean()], color = 'blue')\n",
        "plt.plot(['CA1', 'CB1', 'CC1', 'CD1', 'CE1'], [CA1['Death'].mean(), CB1['Death'].mean(), CC1['Death'].mean(), CD1['Death'].mean(), CE1['Death'].mean()], 'r')\n",
        "plt.scatter(['CA1', 'CB1', 'CC1', 'CD1', 'CE1'], [CA1['Death'].mean(), CB1['Death'].mean(), CC1['Death'].mean(), CD1['Death'].mean(), CE1['Death'].mean()], color = 'red')\n",
        "plt.plot(['CA1', 'CB1', 'CC1', 'CD1', 'CE1'], [CA1['Kill'].mean(), CB1['Kill'].mean(), CC1['Kill'].mean(), CD1['Kill'].mean(), CE1['Kill'].mean()], 'b')\n",
        "plt.scatter(['CA1', 'CB1', 'CC1', 'CD1', 'CE1'], [CA1['Kill'].mean(), CB1['Kill'].mean(), CC1['Kill'].mean(), CD1['Kill'].mean(), CE1['Kill'].mean()], color = 'blue')\n",
        "plt.show()"
      ]
    },
    {
      "cell_type": "markdown",
      "id": "3ba15e15-42d9-44d4-9ade-4fffbaae45b9",
      "metadata": {
        "id": "3ba15e15-42d9-44d4-9ade-4fffbaae45b9"
      },
      "source": [
        "## VISUALIZATION / Win Rate / Second GENERATION"
      ]
    },
    {
      "cell_type": "code",
      "execution_count": null,
      "id": "96593d13-cdde-4fa2-b2dc-7d0a0584bfe3",
      "metadata": {
        "id": "96593d13-cdde-4fa2-b2dc-7d0a0584bfe3",
        "outputId": "6ea9152b-700b-42de-a7d7-ae5c4357e55c"
      },
      "outputs": [
        {
          "data": {
            "image/png": "[encoded data removed]",
            "text/plain": [
              "<Figure size 432x288 with 1 Axes>"
            ]
          },
          "metadata": {
            "needs_background": "light"
          },
          "output_type": "display_data"
        }
      ],
      "source": [
        "plt.plot(['AA2', 'AB2'], [AA2['rate_Win'].mean(), AB2['rate_Win'].mean()])\n",
        "plt.scatter(['AA2', 'AB2'], [AA2['rate_Win'].mean(), AB2['rate_Win'].mean()])\n",
        "plt.plot(['BA2', 'BB2', 'BC2', 'BD2'], [BA2['rate_Win'].mean(), BB2['rate_Win'].mean(), BC2['rate_Win'].mean(), BD2['rate_Win'].mean()])\n",
        "plt.scatter(['BA2', 'BB2', 'BC2', 'BD2'], [BA2['rate_Win'].mean(), BB2['rate_Win'].mean(), BC2['rate_Win'].mean(), BD2['rate_Win'].mean()])\n",
        "plt.plot(['CA2', 'CB2', 'CC2'], [CA2['rate_Win'].mean(), CB2['rate_Win'].mean(), CC2['rate_Win'].mean()])\n",
        "plt.scatter(['CA2', 'CB2', 'CC2'], [CA2['rate_Win'].mean(), CB2['rate_Win'].mean(), CC2['rate_Win'].mean()])\n",
        "plt.show()"
      ]
    },
    {
      "cell_type": "markdown",
      "id": "38e981fd-b23d-48e5-b0cf-c374d1a4bea0",
      "metadata": {
        "id": "38e981fd-b23d-48e5-b0cf-c374d1a4bea0"
      },
      "source": [
        "## VISUALIZATION / AVG DEATH & KILL / Second GENERATION"
      ]
    },
    {
      "cell_type": "code",
      "execution_count": null,
      "id": "a20bbe5f-ab4d-4bff-bf9e-f838ea2f2a1d",
      "metadata": {
        "id": "a20bbe5f-ab4d-4bff-bf9e-f838ea2f2a1d",
        "outputId": "4f2d01ce-93ec-4e6c-91dd-05e6864cdca9"
      },
      "outputs": [
        {
          "data": {
            "image/png": "[encoded data removed]",
            "text/plain": [
              "<Figure size 432x288 with 1 Axes>"
            ]
          },
          "metadata": {
            "needs_background": "light"
          },
          "output_type": "display_data"
        }
      ],
      "source": [
        "plt.plot(['AA2', 'AB2'], [AA2['Death'].mean(), AB2['Death'].mean()], 'r')\n",
        "plt.plot(['AA2', 'AB2'], [AA2['Kill'].mean(), AB2['Kill'].mean()], 'b')\n",
        "plt.plot(['BA2', 'BB2', 'BC2', 'BD2'], [BA2['Death'].mean(), BB2['Death'].mean(), BC2['Death'].mean(), BD2['Death'].mean()], 'r')\n",
        "plt.plot(['BA2', 'BB2', 'BC2', 'BD2'], [BA2['Kill'].mean(), BB2['Kill'].mean(), BC2['Kill'].mean(), BD2['Kill'].mean()], 'b')\n",
        "plt.plot(['CA2', 'CB2', 'CC2'], [CA2['Death'].mean(), CB2['Death'].mean(), CC2['Death'].mean()], 'r')\n",
        "plt.plot(['CA2', 'CB2', 'CC2'], [CA2['Kill'].mean(), CB2['Kill'].mean(), CC2['Kill'].mean()], 'b')\n",
        "plt.scatter(['AA2', 'AB2'], [AA2['Death'].mean(), AB2['Death'].mean()], color = 'red')\n",
        "plt.scatter(['AA2', 'AB2'], [AA2['Kill'].mean(), AB2['Kill'].mean()], color = 'blue')\n",
        "plt.scatter(['BA2', 'BB2', 'BC2', 'BD2'], [BA2['Death'].mean(), BB2['Death'].mean(), BC2['Death'].mean(), BD2['Death'].mean()], color = 'red')\n",
        "plt.scatter(['BA2', 'BB2', 'BC2', 'BD2'], [BA2['Kill'].mean(), BB2['Kill'].mean(), BC2['Kill'].mean(), BD2['Kill'].mean()], color = 'blue')\n",
        "plt.scatter(['CA2', 'CB2', 'CC2'], [CA2['Death'].mean(), CB2['Death'].mean(), CC2['Death'].mean()], color = 'red')\n",
        "plt.scatter(['CA2', 'CB2', 'CC2'], [CA2['Kill'].mean(), CB2['Kill'].mean(), CC2['Kill'].mean()], color = 'blue')\n",
        "plt.show()"
      ]
    },
    {
      "cell_type": "markdown",
      "id": "4f9b8fc0-ab6c-4d32-9307-ec40351735ae",
      "metadata": {
        "id": "4f9b8fc0-ab6c-4d32-9307-ec40351735ae"
      },
      "source": [
        "## Compare Win Rate"
      ]
    },
    {
      "cell_type": "code",
      "execution_count": null,
      "id": "707dce56-a2e0-4bda-8c2e-193267600f9f",
      "metadata": {
        "id": "707dce56-a2e0-4bda-8c2e-193267600f9f",
        "outputId": "e1145498-1af5-49d3-a3b0-d48cb9598c66"
      },
      "outputs": [
        {
          "data": {
            "image/png": "[encoded data removed]",
            "text/plain": [
              "<Figure size 432x288 with 1 Axes>"
            ]
          },
          "metadata": {
            "needs_background": "light"
          },
          "output_type": "display_data"
        }
      ],
      "source": [
        "plt.scatter(['AC1','AB1'], [AC1['rate_Win'].mean(), AB1['rate_Win'].mean()])\n",
        "plt.plot(['AC1','AA2'], [AC1['rate_Win'].mean(), AA2['rate_Win'].mean()])\n",
        "plt.scatter(['AA2','AB2'], [AA2['rate_Win'].mean(), AB2['rate_Win'].mean()])\n",
        "plt.plot(['AB1','AB2'], [AB1['rate_Win'].mean(), AB2['rate_Win'].mean()])\n",
        "plt.show()"
      ]
    },
    {
      "cell_type": "code",
      "execution_count": null,
      "id": "6c740880-5a8b-42f5-90d0-c2ed723cd16f",
      "metadata": {
        "id": "6c740880-5a8b-42f5-90d0-c2ed723cd16f",
        "outputId": "8301eb7f-2511-4e90-d79c-a7e79cc2626d"
      },
      "outputs": [
        {
          "data": {
            "image/png": "[encoded data removed]",
            "text/plain": [
              "<Figure size 432x288 with 1 Axes>"
            ]
          },
          "metadata": {
            "needs_background": "light"
          },
          "output_type": "display_data"
        }
      ],
      "source": [
        "plt.scatter(['BA1','BB1', 'BE1'], [BA1['rate_Win'].mean(), BB1['rate_Win'].mean(), BE1['rate_Win'].mean()])\n",
        "plt.scatter(['BA2','BB2', 'BC2'], [BA2['rate_Win'].mean(), BB2['rate_Win'].mean(), BC2['rate_Win'].mean()])\n",
        "plt.plot(['BA1', 'BA2'], [BA1['rate_Win'].mean(), BA2['rate_Win'].mean()])\n",
        "plt.plot(['BB1', 'BB2'], [BB1['rate_Win'].mean(), BB2['rate_Win'].mean()])\n",
        "plt.plot(['BE1', 'BC2'], [BE1['rate_Win'].mean(), BC2['rate_Win'].mean()])\n",
        "plt.show()"
      ]
    },
    {
      "cell_type": "code",
      "execution_count": null,
      "id": "8434d941-3269-4804-84cf-ccebfc0c93b3",
      "metadata": {
        "id": "8434d941-3269-4804-84cf-ccebfc0c93b3",
        "outputId": "667843cf-525f-48f2-f62f-1bb7fe07ac73"
      },
      "outputs": [
        {
          "data": {
            "image/png": "[encoded data removed]",
            "text/plain": [
              "<Figure size 432x288 with 1 Axes>"
            ]
          },
          "metadata": {
            "needs_background": "light"
          },
          "output_type": "display_data"
        }
      ],
      "source": [
        "plt.scatter(['CB1','CE1'], [CB1['rate_Win'].mean(), CE1['rate_Win'].mean()])\n",
        "plt.scatter(['CA2','CB2', 'CC2'], [CA2['rate_Win'].mean(), CB2['rate_Win'].mean(), CC2['rate_Win'].mean()])\n",
        "plt.plot(['CB1', 'CA2'], [CB1['rate_Win'].mean(), CA2['rate_Win'].mean()])\n",
        "plt.plot(['CB1', 'CC2'], [CB1['rate_Win'].mean(), CC2['rate_Win'].mean()])\n",
        "plt.plot(['CE1', 'CB2'], [CE1['rate_Win'].mean(), CB2['rate_Win'].mean()])\n",
        "plt.show()"
      ]
    },
    {
      "cell_type": "markdown",
      "id": "7cc4b57f-d654-4c20-bed2-daab474f6dcd",
      "metadata": {
        "id": "7cc4b57f-d654-4c20-bed2-daab474f6dcd"
      },
      "source": [
        "## Compare Death & Kill Rate"
      ]
    },
    {
      "cell_type": "code",
      "execution_count": null,
      "id": "4803d65a-7a78-46ab-9704-77b9dd87bb10",
      "metadata": {
        "id": "4803d65a-7a78-46ab-9704-77b9dd87bb10",
        "outputId": "8dbcd041-8f13-4312-bfb5-8e40221f6180"
      },
      "outputs": [
        {
          "data": {
            "image/png": "[encoded data removed]",
            "text/plain": [
              "<Figure size 432x288 with 1 Axes>"
            ]
          },
          "metadata": {
            "needs_background": "light"
          },
          "output_type": "display_data"
        }
      ],
      "source": [
        "plt.scatter(['AC1','AB1'], [AC1['Death'].mean(), AB1['Death'].mean()], c = \"red\")\n",
        "plt.scatter(['AC1','AB1'], [AC1['Kill'].mean(), AB1['Kill'].mean()], c = \"blue\")\n",
        "plt.scatter(['AA2','AB2'], [AA2['Death'].mean(), AB2['Death'].mean()], c = \"red\")\n",
        "plt.scatter(['AA2','AB2'], [AA2['Kill'].mean(), AB2['Kill'].mean()], c = \"blue\")\n",
        "plt.show()"
      ]
    },
    {
      "cell_type": "code",
      "execution_count": null,
      "id": "85e19b44-edfa-4f08-ae68-ebf5ed04f316",
      "metadata": {
        "id": "85e19b44-edfa-4f08-ae68-ebf5ed04f316",
        "outputId": "ca89c4e5-ad14-4abb-877e-a177df2f734f"
      },
      "outputs": [
        {
          "data": {
            "image/png": "[encoded data removed]",
            "text/plain": [
              "<Figure size 432x288 with 1 Axes>"
            ]
          },
          "metadata": {
            "needs_background": "light"
          },
          "output_type": "display_data"
        }
      ],
      "source": [
        "plt.scatter(['BA1','BB1', 'BE1'], [BA1['Death'].mean(), BB1['Death'].mean(), BE1['Death'].mean()], c = \"red\")\n",
        "plt.scatter(['BA1','BB1', 'BE1'], [BA1['Kill'].mean(), BB1['Kill'].mean(), BE1['Kill'].mean()], c = \"blue\")\n",
        "plt.scatter(['BA2','BB2', 'BC2'], [BA2['Death'].mean(), BB2['Death'].mean(), BC2['Death'].mean()], c = \"red\")\n",
        "plt.scatter(['BA2','BB2', 'BC2'], [BA2['Kill'].mean(), BB2['Kill'].mean(), BC2['Kill'].mean()], c = \"blue\")\n",
        "plt.show()"
      ]
    },
    {
      "cell_type": "code",
      "execution_count": null,
      "id": "969dab96-b2b4-4a25-82bb-53673fadd4d9",
      "metadata": {
        "id": "969dab96-b2b4-4a25-82bb-53673fadd4d9",
        "outputId": "ff175e90-bec5-4bf3-e7f7-a244337eeac4"
      },
      "outputs": [
        {
          "data": {
            "image/png": "[encoded data removed]",
            "text/plain": [
              "<Figure size 432x288 with 1 Axes>"
            ]
          },
          "metadata": {
            "needs_background": "light"
          },
          "output_type": "display_data"
        }
      ],
      "source": [
        "plt.scatter(['CA1','CE1'], [CA1['Death'].mean(), CE1['Death'].mean()], c = \"red\")\n",
        "plt.scatter(['CA1','CE1'], [CA1['Kill'].mean(), CE1['Kill'].mean()], c = \"blue\")\n",
        "plt.scatter(['CA2','CB2', 'CC2'], [CA2['Death'].mean(), CB2['Death'].mean(), CC2['Death'].mean()], c = \"red\")\n",
        "plt.scatter(['CA2','CB2', 'CC2'], [CA2['Kill'].mean(), CB2['Kill'].mean(), CC2['Kill'].mean()], c = \"blue\")\n",
        "plt.show()"
      ]
    },
    {
      "cell_type": "markdown",
      "id": "769e9757-2d1b-4bf2-a9b9-7d8090cd013b",
      "metadata": {
        "id": "769e9757-2d1b-4bf2-a9b9-7d8090cd013b"
      },
      "source": [
        "## VISUALIZATION / Regression"
      ]
    },
    {
      "cell_type": "code",
      "execution_count": null,
      "id": "62a0d6cb-de16-4b9e-9695-124e1983621a",
      "metadata": {
        "id": "62a0d6cb-de16-4b9e-9695-124e1983621a"
      },
      "outputs": [],
      "source": [
        "df1 = df[Generation1]\n",
        "df2 = df[Generation2]"
      ]
    },
    {
      "cell_type": "code",
      "execution_count": null,
      "id": "b07d8f7f-4033-40d5-ac1f-f7a856e9231b",
      "metadata": {
        "id": "b07d8f7f-4033-40d5-ac1f-f7a856e9231b",
        "outputId": "73daa7c5-8a7e-45a6-854d-53d0d88cc266"
      },
      "outputs": [
        {
          "data": {
            "image/png": "[encoded data removed]",
            "text/plain": [
              "<Figure size 432x288 with 1 Axes>"
            ]
          },
          "metadata": {
            "needs_background": "light"
          },
          "output_type": "display_data"
        }
      ],
      "source": [
        "X = df[\"Generation\"]\n",
        "y = df[\"rate_Win\"]\n",
        "plt.plot(X, y)\n",
        "plt.show()\n",
        "line_fitter = LinearRegression()\n",
        "line_fitter.fit(X.values.reshape(-1,1), y)\n",
        "plt.show()"
      ]
    },
    {
      "cell_type": "code",
      "execution_count": null,
      "id": "b52c4a81-6316-43ae-9c78-e755eb7dd36b",
      "metadata": {
        "id": "b52c4a81-6316-43ae-9c78-e755eb7dd36b",
        "outputId": "5346992e-b653-4f51-8251-14b3a4ef6423"
      },
      "outputs": [
        {
          "data": {
            "image/png": "[encoded data removed]",
            "text/plain": [
              "<Figure size 432x288 with 1 Axes>"
            ]
          },
          "metadata": {
            "needs_background": "light"
          },
          "output_type": "display_data"
        }
      ],
      "source": [
        "plt.plot(X, y)\n",
        "plt.plot(X,line_fitter.predict(X.values.reshape(-1,1)))\n",
        "plt.show()"
      ]
    },
    {
      "cell_type": "code",
      "execution_count": null,
      "id": "e4cffdf1-82a1-48d5-b1fb-beca56ca2ec2",
      "metadata": {
        "id": "e4cffdf1-82a1-48d5-b1fb-beca56ca2ec2"
      },
      "outputs": [],
      "source": [
        ""
      ]
    }
  ],
  "metadata": {
    "kernelspec": {
      "display_name": "Python 3",
      "language": "python",
      "name": "python3"
    },
    "language_info": {
      "codemirror_mode": {
        "name": "ipython",
        "version": 3
      },
      "file_extension": ".py",
      "mimetype": "text/x-python",
      "name": "python",
      "nbconvert_exporter": "python",
      "pygments_lexer": "ipython3",
      "version": "3.8.8"
    },
    "colab": {
      "name": "DAP_PROJECT.ipynb",
      "provenance": [],
      "include_colab_link": true
    }
  },
  "nbformat": 4,
  "nbformat_minor": 5
}